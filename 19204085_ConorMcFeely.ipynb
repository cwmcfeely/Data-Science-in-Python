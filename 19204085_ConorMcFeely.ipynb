{
 "cells": [
  {
   "cell_type": "markdown",
   "metadata": {},
   "source": [
    "# COMP47670 Assignment 2"
   ]
  },
  {
   "cell_type": "markdown",
   "metadata": {},
   "source": [
    "## Implementing text classification on customer review data"
   ]
  },
  {
   "cell_type": "markdown",
   "metadata": {},
   "source": [
    "### Conor McFeely"
   ]
  },
  {
   "cell_type": "markdown",
   "metadata": {},
   "source": [
    "### Student No: 19204085"
   ]
  },
  {
   "cell_type": "markdown",
   "metadata": {},
   "source": [
    "This assignment involves scraping data from a set of webpages, the data is in form of reviews of businesses in specific categories. The reviews will have the customers review and a star rating out of 5 for the service of that particular business.\n",
    "\n",
    "Once the data has been scraped, it will need to be stored in a dataset with the star column and it's values changed to reflect if the review is positive for negative. If the star rating is greater than 3 it will be reflected as 'Positive' and if the rating is is equal to 3 or less than 3 it will be reflected as a 'Negative' review. Preprocessing techniques will then be implemented on the review column to normalise the data before text classification begins. Text Classification will analyse the review text column, and hopefully it will provide some meaningful insight in helping to accurately predict the ratings of the reviews for each business and category."
   ]
  },
  {
   "cell_type": "code",
   "execution_count": 132,
   "metadata": {},
   "outputs": [],
   "source": [
    "import re\n",
    "import matplotlib.pyplot as plt\n",
    "import numpy as np\n",
    "import pandas as pd\n",
    "import requests\n",
    "import bs4\n",
    "from bs4 import BeautifulSoup\n",
    "import urllib.request\n",
    "import csv\n",
    "import nltk\n",
    "import nltk.tokenize.punkt\n",
    "from nltk.corpus import stopwords\n",
    "from nltk.stem import WordNetLemmatizer\n",
    "stop = stopwords.words('english')\n",
    "wordnet_lemmatizer = WordNetLemmatizer()\n",
    "from sklearn.feature_extraction.text import CountVectorizer\n",
    "from sklearn.feature_extraction.text import TfidfTransformer\n",
    "from sklearn.feature_extraction.text import TfidfVectorizer\n",
    "from sklearn.model_selection import train_test_split\n",
    "from sklearn import naive_bayes\n",
    "from sklearn.naive_bayes import MultinomialNB\n",
    "from sklearn.pipeline import Pipeline\n",
    "from sklearn.metrics import precision_score,accuracy_score,recall_score\n",
    "from sklearn.metrics import plot_confusion_matrix\n",
    "from sklearn.metrics import confusion_matrix"
   ]
  },
  {
   "cell_type": "markdown",
   "metadata": {},
   "source": [
    "## 1. Selecting and Scrapping the reviews and rating"
   ]
  },
  {
   "cell_type": "markdown",
   "metadata": {},
   "source": [
    "The three review categories I have chosen are Automotive, Gym and Resturants. From the main page, I am extracting the URL and i have created a list with the ends of the URL for each category.\n",
    "\n",
    "The below methods will fetch the reviews from each business inside the categories and also the review ranking based on the img and if it's >= 4 it will be positive anything else will be negative. This will then be written to a .csv file using the elements in the categories list and the correspoinding scraped information to determine which will be written."
   ]
  },
  {
   "cell_type": "code",
   "execution_count": 133,
   "metadata": {},
   "outputs": [],
   "source": [
    "# Create variable for the webpage\n",
    "url = 'http://mlg.ucd.ie/modules/yalp/'\n",
    "# Creating array of chosen categories\n",
    "categories = ['automotive_list.html', 'gym_list.html', 'restaurants_list.html']"
   ]
  },
  {
   "cell_type": "code",
   "execution_count": 134,
   "metadata": {},
   "outputs": [],
   "source": [
    "for category in categories:\n",
    "    file_name = category + '.csv'\n",
    "    with open(file_name, 'w', newline='', encoding='utf-8') as file:\n",
    "        file = csv.writer(file)\n",
    "        file.writerow(['comment', 'rating'])\n",
    "        res = requests.get(url + category)\n",
    "        soup = BeautifulSoup(res.text, 'html.parser')\n",
    "        for a in soup.find_all('a', href=True):\n",
    "            business_url = 'http://mlg.ucd.ie/modules/yalp/' + str(a['href'])\n",
    "            inner_res = requests.get(business_url)\n",
    "            inner_soup = BeautifulSoup(inner_res.text, 'html.parser')\n",
    "            for i in inner_soup.findAll(\"div\", {\"class\": \"review\"}):\n",
    "                comment = i.find(\"p\", {\"class\": \"review-text\"})\n",
    "                img = i.find('img', alt=True)\n",
    "                rating = img['alt'].split('-')[0]\n",
    "                if int(rating) >= 4:\n",
    "                    file.writerow([comment.text.strip(), \"positive\"])\n",
    "                else:\n",
    "                    file.writerow([comment.text.strip(), \"negative\"])"
   ]
  },
  {
   "cell_type": "code",
   "execution_count": 135,
   "metadata": {},
   "outputs": [],
   "source": [
    "# Reading in the csv files as data frames\n",
    "autoDF = pd.read_csv('automotive_list.html.csv')\n",
    "gymDF = pd.read_csv('gym_list.html.csv')\n",
    "resturantsDF = pd.read_csv('restaurants_list.html.csv')"
   ]
  },
  {
   "cell_type": "markdown",
   "metadata": {},
   "source": [
    "## 2. Pre-processing the data and build a classification model"
   ]
  },
  {
   "cell_type": "markdown",
   "metadata": {},
   "source": [
    "### (a) Pre-processing"
   ]
  },
  {
   "cell_type": "markdown",
   "metadata": {},
   "source": [
    "The scraped data now needs to be preprocessed and normalised to help with building the classification model and to optimise the results. This method will be used to normalise the data:\n",
    "    1. Stop words need to be removed as they hamper the effiencey of the data\n",
    "    2. Any special or numeric characters\n",
    "    3. Text must be converted to lower case\n",
    "    \n",
    "Each of the three categories will have this preprocessing completed for the begining of the classfication model. Once the pre-processing is complete I will check to see that there is no null data in the column and will check how many positive and how many negative reviews there is."
   ]
  },
  {
   "cell_type": "code",
   "execution_count": 136,
   "metadata": {},
   "outputs": [],
   "source": [
    "def preprocessing_comment(df):\n",
    "    df[\"comment\"] = df['comment'].str.replace('[^\\w\\s]','')\n",
    "    df[\"comment\"] = df[\"comment\"].str.lower()\n",
    "    df['comment'] = df['comment'].apply(lambda x: ' '.join([word for word in x.split() if word not in (stop)]))\n",
    "    df['comment'] = df['comment'].str.replace('\\d+', '')\n",
    "\n",
    "    return df"
   ]
  },
  {
   "cell_type": "code",
   "execution_count": 137,
   "metadata": {},
   "outputs": [],
   "source": [
    "# Cleaning the data frame with the preprocessing method\n",
    "autoDF = preprocessing_comment(autoDF)\n",
    "gymDF = preprocessing_comment(gymDF)\n",
    "resturantsDF = preprocessing_comment(resturantsDF)"
   ]
  },
  {
   "cell_type": "markdown",
   "metadata": {},
   "source": [
    "The below function should use lemmatization to convert all words into their best form, lemmatization will consider the context and converts the word to its meaningful base form."
   ]
  },
  {
   "cell_type": "code",
   "execution_count": 138,
   "metadata": {},
   "outputs": [],
   "source": [
    "def convert(text):\n",
    "    lemmatized_text = []\n",
    "    for i in text.split():\n",
    "        lemmatized_text.append(str(wordnet_lemmatizer.lemmatize(i,pos=\"v\")))\n",
    "    return ' '.join(lemmatized_text)"
   ]
  },
  {
   "cell_type": "code",
   "execution_count": 139,
   "metadata": {},
   "outputs": [],
   "source": [
    "# Cleaning comment column on each data frame\n",
    "autoDF['comment'] = autoDF['comment'].apply(lambda x: convert(x))\n",
    "gymDF['comment'] = gymDF['comment'].apply(lambda x: convert(x))\n",
    "resturantsDF['comment'] = resturantsDF['comment'].apply(lambda x: convert(x))"
   ]
  },
  {
   "cell_type": "code",
   "execution_count": 140,
   "metadata": {},
   "outputs": [
    {
     "data": {
      "text/plain": [
       "comment    0\n",
       "rating     0\n",
       "dtype: int64"
      ]
     },
     "execution_count": 140,
     "metadata": {},
     "output_type": "execute_result"
    }
   ],
   "source": [
    "autoDF.isnull().sum()"
   ]
  },
  {
   "cell_type": "code",
   "execution_count": 141,
   "metadata": {},
   "outputs": [
    {
     "data": {
      "text/plain": [
       "rating\n",
       "negative     788\n",
       "positive    1212\n",
       "Name: rating, dtype: int64"
      ]
     },
     "execution_count": 141,
     "metadata": {},
     "output_type": "execute_result"
    }
   ],
   "source": [
    "autoDF.groupby('rating')['rating'].count()"
   ]
  },
  {
   "cell_type": "code",
   "execution_count": 142,
   "metadata": {},
   "outputs": [
    {
     "data": {
      "text/html": [
       "<div>\n",
       "<style scoped>\n",
       "    .dataframe tbody tr th:only-of-type {\n",
       "        vertical-align: middle;\n",
       "    }\n",
       "\n",
       "    .dataframe tbody tr th {\n",
       "        vertical-align: top;\n",
       "    }\n",
       "\n",
       "    .dataframe thead th {\n",
       "        text-align: right;\n",
       "    }\n",
       "</style>\n",
       "<table border=\"1\" class=\"dataframe\">\n",
       "  <thead>\n",
       "    <tr style=\"text-align: right;\">\n",
       "      <th></th>\n",
       "      <th>comment</th>\n",
       "      <th>rating</th>\n",
       "    </tr>\n",
       "  </thead>\n",
       "  <tbody>\n",
       "    <tr>\n",
       "      <td>0</td>\n",
       "      <td>man work tonight rude real jerk need help get ...</td>\n",
       "      <td>negative</td>\n",
       "    </tr>\n",
       "    <tr>\n",
       "      <td>1</td>\n",
       "      <td>chris rude person give attitude change people ...</td>\n",
       "      <td>negative</td>\n",
       "    </tr>\n",
       "    <tr>\n",
       "      <td>2</td>\n",
       "      <td>one favorite gas station stop store always cle...</td>\n",
       "      <td>positive</td>\n",
       "    </tr>\n",
       "    <tr>\n",
       "      <td>3</td>\n",
       "      <td>oh thank heaven seven eleven dont know thank s...</td>\n",
       "      <td>negative</td>\n",
       "    </tr>\n",
       "    <tr>\n",
       "      <td>4</td>\n",
       "      <td>five star guy work weekday mornings around ami...</td>\n",
       "      <td>positive</td>\n",
       "    </tr>\n",
       "  </tbody>\n",
       "</table>\n",
       "</div>"
      ],
      "text/plain": [
       "                                             comment    rating\n",
       "0  man work tonight rude real jerk need help get ...  negative\n",
       "1  chris rude person give attitude change people ...  negative\n",
       "2  one favorite gas station stop store always cle...  positive\n",
       "3  oh thank heaven seven eleven dont know thank s...  negative\n",
       "4  five star guy work weekday mornings around ami...  positive"
      ]
     },
     "execution_count": 142,
     "metadata": {},
     "output_type": "execute_result"
    }
   ],
   "source": [
    "autoDF.head()"
   ]
  },
  {
   "cell_type": "code",
   "execution_count": 143,
   "metadata": {},
   "outputs": [
    {
     "data": {
      "text/plain": [
       "Text(0, 0.5, 'Number of reviews')"
      ]
     },
     "execution_count": 143,
     "metadata": {},
     "output_type": "execute_result"
    },
    {
     "data": {
      "image/png": "[encoded data removed]",
      "text/plain": [
       "<Figure size 432x288 with 1 Axes>"
      ]
     },
     "metadata": {
      "needs_background": "light"
     },
     "output_type": "display_data"
    }
   ],
   "source": [
    "ratioAuto = autoDF.groupby(\"rating\").count()\n",
    "ratioAuto.plot.bar()\n",
    "plt.title('Count of Rating for automotive')\n",
    "plt.ylabel('Number of reviews')"
   ]
  },
  {
   "cell_type": "code",
   "execution_count": 144,
   "metadata": {},
   "outputs": [
    {
     "data": {
      "text/plain": [
       "comment    0\n",
       "rating     0\n",
       "dtype: int64"
      ]
     },
     "execution_count": 144,
     "metadata": {},
     "output_type": "execute_result"
    }
   ],
   "source": [
    "gymDF.isnull().sum()"
   ]
  },
  {
   "cell_type": "code",
   "execution_count": 145,
   "metadata": {},
   "outputs": [
    {
     "data": {
      "text/plain": [
       "rating\n",
       "negative     701\n",
       "positive    1299\n",
       "Name: rating, dtype: int64"
      ]
     },
     "execution_count": 145,
     "metadata": {},
     "output_type": "execute_result"
    }
   ],
   "source": [
    "gymDF.groupby('rating')['rating'].count()"
   ]
  },
  {
   "cell_type": "code",
   "execution_count": 146,
   "metadata": {},
   "outputs": [
    {
     "data": {
      "text/html": [
       "<div>\n",
       "<style scoped>\n",
       "    .dataframe tbody tr th:only-of-type {\n",
       "        vertical-align: middle;\n",
       "    }\n",
       "\n",
       "    .dataframe tbody tr th {\n",
       "        vertical-align: top;\n",
       "    }\n",
       "\n",
       "    .dataframe thead th {\n",
       "        text-align: right;\n",
       "    }\n",
       "</style>\n",
       "<table border=\"1\" class=\"dataframe\">\n",
       "  <thead>\n",
       "    <tr style=\"text-align: right;\">\n",
       "      <th></th>\n",
       "      <th>comment</th>\n",
       "      <th>rating</th>\n",
       "    </tr>\n",
       "  </thead>\n",
       "  <tbody>\n",
       "    <tr>\n",
       "      <td>0</td>\n",
       "      <td>youre look box east valley highly recommend gy...</td>\n",
       "      <td>positive</td>\n",
       "    </tr>\n",
       "    <tr>\n",
       "      <td>1</td>\n",
       "      <td>really excite try fun workout routine would al...</td>\n",
       "      <td>negative</td>\n",
       "    </tr>\n",
       "    <tr>\n",
       "      <td>2</td>\n",
       "      <td>interest take box bootcamp class research find...</td>\n",
       "      <td>negative</td>\n",
       "    </tr>\n",
       "    <tr>\n",
       "      <td>3</td>\n",
       "      <td>work box bout months love price reasonable alt...</td>\n",
       "      <td>positive</td>\n",
       "    </tr>\n",
       "    <tr>\n",
       "      <td>4</td>\n",
       "      <td>place literally kick butt every single time ac...</td>\n",
       "      <td>positive</td>\n",
       "    </tr>\n",
       "  </tbody>\n",
       "</table>\n",
       "</div>"
      ],
      "text/plain": [
       "                                             comment    rating\n",
       "0  youre look box east valley highly recommend gy...  positive\n",
       "1  really excite try fun workout routine would al...  negative\n",
       "2  interest take box bootcamp class research find...  negative\n",
       "3  work box bout months love price reasonable alt...  positive\n",
       "4  place literally kick butt every single time ac...  positive"
      ]
     },
     "execution_count": 146,
     "metadata": {},
     "output_type": "execute_result"
    }
   ],
   "source": [
    "gymDF.head()"
   ]
  },
  {
   "cell_type": "code",
   "execution_count": 147,
   "metadata": {},
   "outputs": [
    {
     "data": {
      "text/plain": [
       "Text(0, 0.5, 'Number of reviews')"
      ]
     },
     "execution_count": 147,
     "metadata": {},
     "output_type": "execute_result"
    },
    {
     "data": {
      "image/png": "[encoded data removed]",
      "text/plain": [
       "<Figure size 432x288 with 1 Axes>"
      ]
     },
     "metadata": {
      "needs_background": "light"
     },
     "output_type": "display_data"
    }
   ],
   "source": [
    "gymAuto = gymDF.groupby(\"rating\").count()\n",
    "ratioAuto.plot.bar()\n",
    "plt.title('Count of Rating for automotive')\n",
    "plt.ylabel('Number of reviews')"
   ]
  },
  {
   "cell_type": "code",
   "execution_count": 148,
   "metadata": {},
   "outputs": [
    {
     "data": {
      "text/plain": [
       "comment    0\n",
       "rating     0\n",
       "dtype: int64"
      ]
     },
     "execution_count": 148,
     "metadata": {},
     "output_type": "execute_result"
    }
   ],
   "source": [
    "resturantsDF.isnull().sum()"
   ]
  },
  {
   "cell_type": "code",
   "execution_count": 149,
   "metadata": {},
   "outputs": [
    {
     "data": {
      "text/plain": [
       "rating\n",
       "negative     838\n",
       "positive    1162\n",
       "Name: rating, dtype: int64"
      ]
     },
     "execution_count": 149,
     "metadata": {},
     "output_type": "execute_result"
    }
   ],
   "source": [
    "resturantsDF.groupby('rating')['rating'].count()"
   ]
  },
  {
   "cell_type": "code",
   "execution_count": 150,
   "metadata": {},
   "outputs": [
    {
     "data": {
      "text/html": [
       "<div>\n",
       "<style scoped>\n",
       "    .dataframe tbody tr th:only-of-type {\n",
       "        vertical-align: middle;\n",
       "    }\n",
       "\n",
       "    .dataframe tbody tr th {\n",
       "        vertical-align: top;\n",
       "    }\n",
       "\n",
       "    .dataframe thead th {\n",
       "        text-align: right;\n",
       "    }\n",
       "</style>\n",
       "<table border=\"1\" class=\"dataframe\">\n",
       "  <thead>\n",
       "    <tr style=\"text-align: right;\">\n",
       "      <th></th>\n",
       "      <th>comment</th>\n",
       "      <th>rating</th>\n",
       "    </tr>\n",
       "  </thead>\n",
       "  <tbody>\n",
       "    <tr>\n",
       "      <td>0</td>\n",
       "      <td>husband rare afternoon decide try place friend...</td>\n",
       "      <td>negative</td>\n",
       "    </tr>\n",
       "    <tr>\n",
       "      <td>1</td>\n",
       "      <td>years think wine store sister stop tell go nic...</td>\n",
       "      <td>positive</td>\n",
       "    </tr>\n",
       "    <tr>\n",
       "      <td>2</td>\n",
       "      <td>place charm go husband love simple clean decor...</td>\n",
       "      <td>positive</td>\n",
       "    </tr>\n",
       "    <tr>\n",
       "      <td>3</td>\n",
       "      <td>want try place couple years finally stop last ...</td>\n",
       "      <td>positive</td>\n",
       "    </tr>\n",
       "    <tr>\n",
       "      <td>4</td>\n",
       "      <td>decor look ok layout busy difficult walk sitta...</td>\n",
       "      <td>negative</td>\n",
       "    </tr>\n",
       "  </tbody>\n",
       "</table>\n",
       "</div>"
      ],
      "text/plain": [
       "                                             comment    rating\n",
       "0  husband rare afternoon decide try place friend...  negative\n",
       "1  years think wine store sister stop tell go nic...  positive\n",
       "2  place charm go husband love simple clean decor...  positive\n",
       "3  want try place couple years finally stop last ...  positive\n",
       "4  decor look ok layout busy difficult walk sitta...  negative"
      ]
     },
     "execution_count": 150,
     "metadata": {},
     "output_type": "execute_result"
    }
   ],
   "source": [
    "resturantsDF.head()"
   ]
  },
  {
   "cell_type": "code",
   "execution_count": 151,
   "metadata": {},
   "outputs": [
    {
     "data": {
      "text/plain": [
       "Text(0, 0.5, 'Number of reviews')"
      ]
     },
     "execution_count": 151,
     "metadata": {},
     "output_type": "execute_result"
    },
    {
     "data": {
      "image/png": "[encoded data removed]",
      "text/plain": [
       "<Figure size 432x288 with 1 Axes>"
      ]
     },
     "metadata": {
      "needs_background": "light"
     },
     "output_type": "display_data"
    }
   ],
   "source": [
    "resturantsratio = resturantsDF.groupby(\"rating\").count()\n",
    "ratioAuto.plot.bar()\n",
    "plt.title('Count of Rating for automotive')\n",
    "plt.ylabel('Number of reviews')"
   ]
  },
  {
   "cell_type": "markdown",
   "metadata": {},
   "source": [
    "### (b) Classification Model - Naive Bayes"
   ]
  },
  {
   "cell_type": "markdown",
   "metadata": {},
   "source": [
    "The classifier I have chosen to create the classification model will be Naive Bayes. I will use thos to distinguish between \"positive\" and \"negative\" reviews, and it will help predict if a review is either positive or negative based on the classifier that has been built.\n",
    "\n",
    "Naive Bayes is suited as it is based on a theory of two events in this case, positive or negative. Along with that Naive Bayes is really fast as it only needs one pass over the data and it's not effected by sparse data. The results are still highly competitive even with the high speed and has been known to be used regulary in tasks of text classification and sentiment analysis such as this."
   ]
  },
  {
   "cell_type": "code",
   "execution_count": 152,
   "metadata": {},
   "outputs": [
    {
     "data": {
      "text/html": [
       "<div>\n",
       "<style scoped>\n",
       "    .dataframe tbody tr th:only-of-type {\n",
       "        vertical-align: middle;\n",
       "    }\n",
       "\n",
       "    .dataframe tbody tr th {\n",
       "        vertical-align: top;\n",
       "    }\n",
       "\n",
       "    .dataframe thead th {\n",
       "        text-align: right;\n",
       "    }\n",
       "</style>\n",
       "<table border=\"1\" class=\"dataframe\">\n",
       "  <thead>\n",
       "    <tr style=\"text-align: right;\">\n",
       "      <th></th>\n",
       "      <th>comment</th>\n",
       "      <th>rating</th>\n",
       "    </tr>\n",
       "  </thead>\n",
       "  <tbody>\n",
       "    <tr>\n",
       "      <td>0</td>\n",
       "      <td>man work tonight rude real jerk need help get ...</td>\n",
       "      <td>negative</td>\n",
       "    </tr>\n",
       "    <tr>\n",
       "      <td>1</td>\n",
       "      <td>chris rude person give attitude change people ...</td>\n",
       "      <td>negative</td>\n",
       "    </tr>\n",
       "    <tr>\n",
       "      <td>2</td>\n",
       "      <td>one favorite gas station stop store always cle...</td>\n",
       "      <td>positive</td>\n",
       "    </tr>\n",
       "    <tr>\n",
       "      <td>3</td>\n",
       "      <td>oh thank heaven seven eleven dont know thank s...</td>\n",
       "      <td>negative</td>\n",
       "    </tr>\n",
       "    <tr>\n",
       "      <td>4</td>\n",
       "      <td>five star guy work weekday mornings around ami...</td>\n",
       "      <td>positive</td>\n",
       "    </tr>\n",
       "  </tbody>\n",
       "</table>\n",
       "</div>"
      ],
      "text/plain": [
       "                                             comment    rating\n",
       "0  man work tonight rude real jerk need help get ...  negative\n",
       "1  chris rude person give attitude change people ...  negative\n",
       "2  one favorite gas station stop store always cle...  positive\n",
       "3  oh thank heaven seven eleven dont know thank s...  negative\n",
       "4  five star guy work weekday mornings around ami...  positive"
      ]
     },
     "execution_count": 152,
     "metadata": {},
     "output_type": "execute_result"
    }
   ],
   "source": [
    "# Combine the clean dataframe of each category to build a stronger classifier\n",
    "cleanDF = autoDF.append(gymDF).append(resturantsDF)\n",
    "cleanDF['comment'] = cleanDF['comment'].apply(lambda x: convert(x))\n",
    "cleanDF.head()"
   ]
  },
  {
   "cell_type": "code",
   "execution_count": 153,
   "metadata": {},
   "outputs": [
    {
     "data": {
      "text/plain": [
       "rating\n",
       "negative    2327\n",
       "positive    3673\n",
       "Name: rating, dtype: int64"
      ]
     },
     "execution_count": 153,
     "metadata": {},
     "output_type": "execute_result"
    }
   ],
   "source": [
    "# Checking to see if the total matches each individual category and it does\n",
    "cleanDF.groupby('rating')['rating'].count()"
   ]
  },
  {
   "cell_type": "markdown",
   "metadata": {},
   "source": [
    "### Building the model"
   ]
  },
  {
   "cell_type": "markdown",
   "metadata": {},
   "source": [
    "Using the combined cleaned data from auto, gym and resturants I created a Naive Bayes classifier to help distingush between positive and negative comments. A confusion matrix will be used to describe the performance of the model on the test data and it helped illustrate the performance.\n",
    "\n",
    "The data will be split as 70% for training and 30% for test data, along with the sklearn library help to create the model and distiguish the training and test data."
   ]
  },
  {
   "cell_type": "code",
   "execution_count": 154,
   "metadata": {},
   "outputs": [],
   "source": [
    "# Testing the predictions on the combined cleaned data frame\n",
    "X = cleanDF.comment\n",
    "y = cleanDF.rating\n",
    "\n",
    "# Split the data into a 70 training and 30 as test\n",
    "X_train, X_test, y_train, y_test = train_test_split(X, y, test_size=0.3, random_state = 42)\n",
    "\n",
    "# Create a NB classifier with the help of Tfidf\n",
    "nb = Pipeline([('vect', CountVectorizer()), ('tfidf', TfidfTransformer()), ('clf', MultinomialNB()),])\n",
    "\n",
    "# Train the model using the training data sets\n",
    "nb = nb.fit(X_train, y_train)\n",
    "\n",
    "# predict the response of the test data\n",
    "y_pred = nb.predict(X_test)"
   ]
  },
  {
   "cell_type": "markdown",
   "metadata": {},
   "source": [
    "### (c) Testing predictions"
   ]
  },
  {
   "cell_type": "markdown",
   "metadata": {},
   "source": [
    "A confusion matrix was used to test the predictions of the Naive Bayes classification model, this helped illustate the performance of the classification model in three key areas. The accuracy for the model was at 82.67% which indicates how many the model got correct, the recall score was extremley high at 98.7% meaning the intuitively ability to find all the postive samples. The precision score is still pretty good at 78% and this is the ratio of correctly predicted positive observations to the total predicted observations."
   ]
  },
  {
   "cell_type": "code",
   "execution_count": 155,
   "metadata": {},
   "outputs": [
    {
     "name": "stdout",
     "output_type": "stream",
     "text": [
      "Accuracy Score  0.8266666666666667\n",
      "Recall Score  0.9824884792626728\n",
      "Precision Score  0.7844002943340692\n",
      "Normalized confusion matrix\n",
      "[[0.59020979 0.40979021]\n",
      " [0.01751152 0.98248848]]\n"
     ]
    },
    {
     "data": {
      "image/png": "[encoded data removed]",
      "text/plain": [
       "<Figure size 432x288 with 2 Axes>"
      ]
     },
     "metadata": {
      "needs_background": "light"
     },
     "output_type": "display_data"
    }
   ],
   "source": [
    "my_tags = ['positive','negative']\n",
    "print(\"Accuracy Score \",accuracy_score(y_test,y_pred))\n",
    "print(\"Recall Score \",recall_score(y_test,y_pred,average=\"binary\", pos_label=\"positive\"))\n",
    "print(\"Precision Score \",precision_score(y_test,y_pred,average=\"binary\", pos_label=\"positive\"))\n",
    "\n",
    "titles_options = [(\"Normalized confusion matrix\", 'true')]\n",
    "class_names = [\"positive\",\"negative\"]\n",
    "for title, normalize in titles_options:\n",
    "    disp = plot_confusion_matrix(nb, X_test, y_test, display_labels=class_names,\n",
    "    cmap=plt.cm.plasma,normalize=normalize)\n",
    "    disp.ax_.set_title(title)\n",
    "    print(title)\n",
    "    print(disp.confusion_matrix)"
   ]
  },
  {
   "cell_type": "code",
   "execution_count": 156,
   "metadata": {},
   "outputs": [],
   "source": [
    "def predict(X,y):\n",
    "    # Split the data into a 70 training and 30 as test\n",
    "    X_train, X_test, y_train, y_test = train_test_split(X, y, test_size=0.3, random_state = 42)\n",
    "    \n",
    "    # Create a NB classifier with the help of Tfidf\n",
    "    nb = Pipeline([('vect', CountVectorizer()), ('tfidf', TfidfTransformer()), ('clf', MultinomialNB()),])\n",
    "    \n",
    "    # Train the model using the training data sets\n",
    "    nb = nb.fit(X_train, y_train)\n",
    "    \n",
    "    # predict the response of the test data\n",
    "    y_pred = nb.predict(X_test)\n",
    "    \n",
    "    print(\"Accuracy Score  \",accuracy_score(y_test,y_pred))\n",
    "    print(\"Recall Score    \",recall_score(y_test,y_pred,average=\"binary\", pos_label=\"positive\"))\n",
    "    print(\"Precision Score \",precision_score(y_test,y_pred,average=\"binary\", pos_label=\"positive\"))\n",
    "    print(confusion_matrix(y_test,y_pred))"
   ]
  },
  {
   "cell_type": "markdown",
   "metadata": {},
   "source": [
    "The below data shows that recall scores are great for all of the models and the accuracy are high for both Automotive reviews and the gym reviews, there is a slight decrease in the accuracy score for resturants and a precesion score to go along with that. But based on the scores provided I'm happy to proceed with the Naive Bayes classification model to begin stype three."
   ]
  },
  {
   "cell_type": "code",
   "execution_count": 157,
   "metadata": {},
   "outputs": [
    {
     "name": "stdout",
     "output_type": "stream",
     "text": [
      "\n",
      "The classification model on Automotive\n",
      "Accuracy Score   0.8383333333333334\n",
      "Recall Score     0.9891304347826086\n",
      "Precision Score  0.7964989059080962\n",
      "[[139  93]\n",
      " [  4 364]]\n",
      "\n",
      "The classification model on Gym\n",
      "Accuracy Score   0.8466666666666667\n",
      "Recall Score     0.9926108374384236\n",
      "Precision Score  0.8191056910569106\n",
      "[[105  89]\n",
      " [  3 403]]\n",
      "\n",
      "The classification model on Resturants\n",
      "Accuracy Score   0.7933333333333333\n",
      "Recall Score     0.9857549857549858\n",
      "Precision Score  0.7440860215053764\n",
      "[[130 119]\n",
      " [  5 346]]\n"
     ]
    }
   ],
   "source": [
    "print(\"\\nThe classification model on Automotive\")\n",
    "auto_model = predict(autoDF.comment,autoDF.rating)\n",
    "\n",
    "print(\"\\nThe classification model on Gym\")\n",
    "gym_model = predict(gymDF.comment,gymDF.rating)\n",
    "\n",
    "print(\"\\nThe classification model on Resturants\")\n",
    "resturant_model = predict(resturantsDF.comment,resturantsDF.rating)"
   ]
  },
  {
   "cell_type": "markdown",
   "metadata": {},
   "source": [
    "## 3. Evaluate the preformance of Classification models"
   ]
  },
  {
   "cell_type": "markdown",
   "metadata": {},
   "source": [
    "The final stage involves evaluating the performance of each classification models when they're applied to data from specific categories. This will involve using a trained classification model on the automotive data frame and using it to evaluate the performance of the gym and resturant data. Then using a trained classification model on the gym data and then use that on the automotive and resturants category and finally using a classification on the resturants category and evaluate it's performance on the automotive and gym data.\n",
    "\n",
    "The below isn't an optimal way, i tried to make a function like the one above but wasn't managing to call the correct data that i needed to evaluate the performance"
   ]
  },
  {
   "cell_type": "code",
   "execution_count": 158,
   "metadata": {},
   "outputs": [],
   "source": [
    "X = autoDF.comment\n",
    "y = autoDF.rating\n",
    "X1 = gymDF.comment\n",
    "y1 = gymDF.rating\n",
    "X2 = resturantsDF.comment\n",
    "y2 = resturantsDF.rating\n",
    "\n",
    "X_train, X_test, y_train, y_test = train_test_split(X, y, test_size=0.3, random_state = 42)\n",
    "X1_train, X1_test, y1_train, y1_test = train_test_split(X1, y1, test_size=0.3, random_state = 42)\n",
    "X2_train, X2_test, y2_train, y2_test = train_test_split(X2, y2, test_size=0.3, random_state = 42)\n",
    "\n",
    "nb = Pipeline([('vect', CountVectorizer()), ('tfidf', TfidfTransformer()), ('clf', MultinomialNB()),])\n",
    "\n",
    "nb1 = nb.fit(X_train, y_train)\n",
    "nb2 = nb.fit(X1_train, y1_train)\n",
    "nb3 = nb.fit(X2_train, y2_train)\n",
    "\n",
    "y_pred = nb.predict(X_test)\n",
    "y_pred1 = nb2.predict(X1_test)\n",
    "y_pred2 = nb3.predict(X2_test)"
   ]
  },
  {
   "cell_type": "markdown",
   "metadata": {},
   "source": [
    "### Automotive Dataset model performance on Gym and Resturants"
   ]
  },
  {
   "cell_type": "code",
   "execution_count": 159,
   "metadata": {},
   "outputs": [
    {
     "name": "stdout",
     "output_type": "stream",
     "text": [
      "Accuracy Score of Auto > Gym  0.5333333333333333\n",
      "Recall Score of Auto > Gym  0.5394088669950738\n",
      "Precision Score of Auto > Gym  0.7019230769230769\n",
      "Auto > Gym confusion matrix\n",
      "[[0.78865979 0.21134021]\n",
      " [0.04926108 0.95073892]]\n"
     ]
    },
    {
     "data": {
      "image/png": "[encoded data removed]",
      "text/plain": [
       "<Figure size 432x288 with 2 Axes>"
      ]
     },
     "metadata": {
      "needs_background": "light"
     },
     "output_type": "display_data"
    }
   ],
   "source": [
    "my_tags = ['positive','negative']\n",
    "print(\"Accuracy Score of Auto > Gym \",accuracy_score(y1_test,y_pred))\n",
    "print(\"Recall Score of Auto > Gym \",recall_score(y1_test,y_pred,average=\"binary\", pos_label=\"positive\"))\n",
    "print(\"Precision Score of Auto > Gym \",precision_score(y1_test,y_pred,average=\"binary\", pos_label=\"positive\"))\n",
    "\n",
    "titles_options = [(\"Auto > Gym confusion matrix\", 'true')]\n",
    "class_names = [\"positive\",\"negative\"]\n",
    "for title, normalize in titles_options:\n",
    "    disp = plot_confusion_matrix(nb, X1_test, y1_test, display_labels=class_names,\n",
    "    cmap=plt.cm.plasma,normalize=normalize)\n",
    "    disp.ax_.set_title(title)\n",
    "    print(title)\n",
    "    print(disp.confusion_matrix)"
   ]
  },
  {
   "cell_type": "code",
   "execution_count": 160,
   "metadata": {},
   "outputs": [
    {
     "name": "stdout",
     "output_type": "stream",
     "text": [
      "Accuracy Score of Auto > Resturants  0.5316666666666666\n",
      "Recall Score of Auto > Resturants  0.5441595441595442\n",
      "Precision Score of Auto > Resturants  0.6121794871794872\n",
      "Auto > Resturants confusion matrix\n",
      "[[0.52208835 0.47791165]\n",
      " [0.01424501 0.98575499]]\n"
     ]
    },
    {
     "data": {
      "image/png": "[encoded data removed]",
      "text/plain": [
       "<Figure size 432x288 with 2 Axes>"
      ]
     },
     "metadata": {
      "needs_background": "light"
     },
     "output_type": "display_data"
    }
   ],
   "source": [
    "my_tags = ['positive','negative']\n",
    "print(\"Accuracy Score of Auto > Resturants \",accuracy_score(y2_test,y_pred))\n",
    "print(\"Recall Score of Auto > Resturants \",recall_score(y2_test,y_pred,average=\"binary\", pos_label=\"positive\"))\n",
    "print(\"Precision Score of Auto > Resturants \",precision_score(y2_test,y_pred,average=\"binary\", pos_label=\"positive\"))\n",
    "\n",
    "titles_options = [(\"Auto > Resturants confusion matrix\", 'true')]\n",
    "class_names = [\"positive\",\"negative\"]\n",
    "for title, normalize in titles_options:\n",
    "    disp = plot_confusion_matrix(nb, X2_test, y2_test, display_labels=class_names,\n",
    "    cmap=plt.cm.plasma,normalize=normalize)\n",
    "    disp.ax_.set_title(title)\n",
    "    print(title)\n",
    "    print(disp.confusion_matrix)"
   ]
  },
  {
   "cell_type": "markdown",
   "metadata": {},
   "source": [
    "### Gym Dataset model performance on Automotive and Resturants"
   ]
  },
  {
   "cell_type": "code",
   "execution_count": 161,
   "metadata": {},
   "outputs": [
    {
     "name": "stdout",
     "output_type": "stream",
     "text": [
      "Accuracy Score of Gym > Auto  0.5883333333333334\n",
      "Recall Score of Gym > Auto  0.7445652173913043\n",
      "Precision Score of Gym > Auto  0.6416861826697893\n",
      "Gym > Auto confusion matrix\n",
      "[[0.89224138 0.10775862]\n",
      " [0.2201087  0.7798913 ]]\n"
     ]
    },
    {
     "data": {
      "image/png": "[encoded data removed]",
      "text/plain": [
       "<Figure size 432x288 with 2 Axes>"
      ]
     },
     "metadata": {
      "needs_background": "light"
     },
     "output_type": "display_data"
    }
   ],
   "source": [
    "my_tags = ['positive','negative']\n",
    "print(\"Accuracy Score of Gym > Auto \",accuracy_score(y_test,y_pred1))\n",
    "print(\"Recall Score of Gym > Auto \",recall_score(y_test,y_pred1,average=\"binary\", pos_label=\"positive\"))\n",
    "print(\"Precision Score of Gym > Auto \",precision_score(y_test,y_pred1,average=\"binary\", pos_label=\"positive\"))\n",
    "\n",
    "titles_options = [(\"Gym > Auto confusion matrix\", 'true')]\n",
    "class_names = [\"positive\",\"negative\"]\n",
    "for title, normalize in titles_options:\n",
    "    disp = plot_confusion_matrix(nb, X_test, y_test, display_labels=class_names,\n",
    "    cmap=plt.cm.plasma,normalize=normalize)\n",
    "    disp.ax_.set_title(title)\n",
    "    print(title)\n",
    "    print(disp.confusion_matrix)"
   ]
  },
  {
   "cell_type": "code",
   "execution_count": 162,
   "metadata": {},
   "outputs": [
    {
     "name": "stdout",
     "output_type": "stream",
     "text": [
      "Accuracy Score of Gym > resturants  0.5066666666666667\n",
      "Recall Score of Gym > resturants  0.6866096866096866\n",
      "Precision Score of Gym > resturants  0.5644028103044496\n",
      "Gym > resturants confusion matrix\n",
      "[[0.52208835 0.47791165]\n",
      " [0.01424501 0.98575499]]\n"
     ]
    },
    {
     "data": {
      "image/png": "[encoded data removed]",
      "text/plain": [
       "<Figure size 432x288 with 2 Axes>"
      ]
     },
     "metadata": {
      "needs_background": "light"
     },
     "output_type": "display_data"
    }
   ],
   "source": [
    "my_tags = ['positive','negative']\n",
    "print(\"Accuracy Score of Gym > resturants \",accuracy_score(y2_test,y_pred1))\n",
    "print(\"Recall Score of Gym > resturants \",recall_score(y2_test,y_pred1,average=\"binary\", pos_label=\"positive\"))\n",
    "print(\"Precision Score of Gym > resturants \",precision_score(y2_test,y_pred1,average=\"binary\", pos_label=\"positive\"))\n",
    "\n",
    "titles_options = [(\"Gym > resturants confusion matrix\", 'true')]\n",
    "class_names = [\"positive\",\"negative\"]\n",
    "for title, normalize in titles_options:\n",
    "    disp = plot_confusion_matrix(nb, X2_test, y2_test, display_labels=class_names,\n",
    "    cmap=plt.cm.plasma,normalize=normalize)\n",
    "    disp.ax_.set_title(title)\n",
    "    print(title)\n",
    "    print(disp.confusion_matrix)"
   ]
  },
  {
   "cell_type": "markdown",
   "metadata": {},
   "source": [
    "### Resturants Dataset model performance on Automotive and Gym"
   ]
  },
  {
   "cell_type": "code",
   "execution_count": 163,
   "metadata": {},
   "outputs": [
    {
     "name": "stdout",
     "output_type": "stream",
     "text": [
      "Accuracy Score of Resturants > Auto  0.5816666666666667\n",
      "Recall Score of Resturants > Auto  0.7907608695652174\n",
      "Precision Score of Resturants > Auto  0.6258064516129033\n",
      "Resturants > Auto confusion matrix\n",
      "[[0.89224138 0.10775862]\n",
      " [0.2201087  0.7798913 ]]\n"
     ]
    },
    {
     "data": {
      "image/png": "[encoded data removed]",
      "text/plain": [
       "<Figure size 432x288 with 2 Axes>"
      ]
     },
     "metadata": {
      "needs_background": "light"
     },
     "output_type": "display_data"
    }
   ],
   "source": [
    "my_tags = ['positive','negative']\n",
    "print(\"Accuracy Score of Resturants > Auto \",accuracy_score(y_test,y_pred2))\n",
    "print(\"Recall Score of Resturants > Auto \",recall_score(y_test,y_pred2,average=\"binary\", pos_label=\"positive\"))\n",
    "print(\"Precision Score of Resturants > Auto \",precision_score(y_test,y_pred2,average=\"binary\", pos_label=\"positive\"))\n",
    "\n",
    "titles_options = [(\"Resturants > Auto confusion matrix\", 'true')]\n",
    "class_names = [\"positive\",\"negative\"]\n",
    "for title, normalize in titles_options:\n",
    "    disp = plot_confusion_matrix(nb, X_test, y_test, display_labels=class_names,\n",
    "    cmap=plt.cm.plasma,normalize=normalize)\n",
    "    disp.ax_.set_title(title)\n",
    "    print(title)\n",
    "    print(disp.confusion_matrix)"
   ]
  },
  {
   "cell_type": "code",
   "execution_count": 164,
   "metadata": {},
   "outputs": [
    {
     "name": "stdout",
     "output_type": "stream",
     "text": [
      "Accuracy Score of Resturants > Auto  0.585\n",
      "Recall Score of Resturants > Auto  0.7660098522167488\n",
      "Precision Score of Resturants > Auto  0.6688172043010753\n",
      "Resturants > Auto confusion matrix\n",
      "[[0.78865979 0.21134021]\n",
      " [0.04926108 0.95073892]]\n"
     ]
    },
    {
     "data": {
      "image/png": "[encoded data removed]",
      "text/plain": [
       "<Figure size 432x288 with 2 Axes>"
      ]
     },
     "metadata": {
      "needs_background": "light"
     },
     "output_type": "display_data"
    }
   ],
   "source": [
    "my_tags = ['positive','negative']\n",
    "print(\"Accuracy Score of Resturants > Auto \",accuracy_score(y1_test,y_pred2))\n",
    "print(\"Recall Score of Resturants > Auto \",recall_score(y1_test,y_pred2,average=\"binary\", pos_label=\"positive\"))\n",
    "print(\"Precision Score of Resturants > Auto \",precision_score(y1_test,y_pred2,average=\"binary\", pos_label=\"positive\"))\n",
    "\n",
    "titles_options = [(\"Resturants > Auto confusion matrix\", 'true')]\n",
    "class_names = [\"positive\",\"negative\"]\n",
    "for title, normalize in titles_options:\n",
    "    disp = plot_confusion_matrix(nb, X1_test, y1_test, display_labels=class_names,\n",
    "    cmap=plt.cm.plasma,normalize=normalize)\n",
    "    disp.ax_.set_title(title)\n",
    "    print(title)\n",
    "    print(disp.confusion_matrix)"
   ]
  },
  {
   "cell_type": "markdown",
   "metadata": {},
   "source": [
    "### Analysis of performance on different datasets\n",
    "\n",
    "Training and testing data on different categories did not produce as strong result, even though the principles were the same. The accuray level managed to reach above 50% in all cases but it struggled to reach the optimisation of data if it was using the classifer created for the same category.\n",
    "\n",
    "The lack of success with the trained model on another category could be because it didn't identify the same new keywords in the classification, as it was only given keywords on the classification of the model it was trained on and there wouldn't be mant similarities in the use of text for automotive, gym and restuarants.\n",
    "\n",
    "Even though the accuracy has shrunk the level of similarity between accuracy of each training set on the different categories all were within 8% of each other. This could be because of the difference in key words like mentioned before and also it could be down to the use of pre-processing to remove keywords. In an article by towards science (https://towardsdatascience.com/why-you-should-avoid-removing-stopwords-aa7a353d2a52) they highlight the importance of stop words for sentiment of a sentence and how this pre-processing technique may not actually improve the model performance.\n",
    "\n",
    "Different file size and after the preprocessing the files may be missing key information. If i was doing it again i would debate not using lemmatization as most words in the english dictionary can take several forms and several meanings and that could cause a keyword to change the classification of a specific review. It doesn't consider spelling mistakes or if the review is in a foreign language.\n",
    "\n",
    "1. The accuracy of Automotive on gym had a small accuracy of 0.53 and the accuracy on Resturants 0.51 which shows that it was consistent but had no true accuracy\n",
    "\n",
    "2. The accuracy of Gym on Automotives had a small accuracy of 0.58 and the accuracy on Resturants was even lower with 0.51 which helps highlight the possible difference in key words.\n",
    "\n",
    "3. The accuracy of Resturants on Automotives had a a slighty better accuracy than any other model of 0.58 and the accuracy on gym was the same with 0.58.\n",
    "\n",
    "The most efficent model was the combined preprocessed information of all three categories with it tested on each model at 80% or greater showing that there was a possibility of more efficent pre-processing as more information it was easier for the model to indentify the keywords for each. The negative accuracy across all the categories showed to have the greatest accuracy and success the positive was still good but not near as efficent.\n",
    "\n",
    "The good sign from the models on each category shows that the precission and recall performs better than the accuracy and in some cases this can be a greater indication to the success of the implemented model. If I was to run it again I would trim or distinguist the max or minimun amount of data has to be used so there is not a difference on how much is used between datasets as each data had different amount of positive and negative reviews.\n",
    "\n",
    "Moreover there needs to be more thought put into the pre-processing techniques to help improve the efficency on each dataset. The optimised way would be using the combined data and use that on each category to have a better accuracy as it has a wider abundance of keywords and if you're looking for optimal results the training and test data needs to be used for the specific categories unless the categories are similar in size of dataset and similar amount of positive and negative reviews.\n"
   ]
  }
 ],
 "metadata": {
  "kernelspec": {
   "display_name": "Python 3",
   "language": "python",
   "name": "python3"
  },
  "language_info": {
   "codemirror_mode": {
    "name": "ipython",
    "version": 3
   },
   "file_extension": ".py",
   "mimetype": "text/x-python",
   "name": "python",
   "nbconvert_exporter": "python",
   "pygments_lexer": "ipython3",
   "version": "3.7.4"
  }
 },
 "nbformat": 4,
 "nbformat_minor": 2
}
