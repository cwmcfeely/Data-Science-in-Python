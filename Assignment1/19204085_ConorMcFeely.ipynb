{
 "cells": [
  {
   "cell_type": "markdown",
   "metadata": {},
   "source": [
    "# COMP47670 Assignment 1\n",
    "## NBA: Evolution of Shot Selection in the NBA\n",
    "\n",
    "### Conor McFeely\n",
    "### Student No: 19204085"
   ]
  },
  {
   "cell_type": "code",
   "execution_count": 1,
   "metadata": {},
   "outputs": [],
   "source": [
    "from selenium.webdriver.firefox.options import Options\n",
    "from selenium import webdriver\n",
    "from bs4 import BeautifulSoup \n",
    "import pandas as pd\n",
    "from pandas import read_csv\n",
    "import requests\n",
    "import time\n",
    "import csv\n",
    "import matplotlib\n",
    "import matplotlib.pyplot as plt\n",
    "%matplotlib inline"
   ]
  },
  {
   "cell_type": "markdown",
   "metadata": {},
   "source": [
    "## 1. Selection of Appropriate API"
   ]
  },
  {
   "cell_type": "markdown",
   "metadata": {},
   "source": [
    " I have a massive interest in all things basketball related, I have been playing basketball competitively must of my life \n",
    " and I work for the governing body in Ireland, Basketball Ireland. Hence why I wanted to complete this project on Basketball depending on the availablility of an API for basketball.\n",
    "\n",
    " National Basketball Association (NBA) provide API's so I chose to use these. The style of the NBA has evolved the last few years with many players expected to shoot 34% and above from the three point line. \n",
    " \n",
    " This API collects the team shooting information by seasons played. I will be collecting the information from the past 10 seasons\n",
    " https://stats.nba.com/teams/shooting/?Season=2019-20&SeasonType=Regular%20Season"
   ]
  },
  {
   "cell_type": "markdown",
   "metadata": {},
   "source": [
    "## Task 2: Collect data your chosen API(s)"
   ]
  },
  {
   "cell_type": "markdown",
   "metadata": {},
   "source": [
    "Collecting Raw Data:\n",
    "\n",
    "Using geckodriver for firefox I was able to collect the information I needed for the NBA seasons. A for loop function was created to select the years I wanted to iterate through.\n",
    "\n",
    "Using Beautifoul soup i was able to parse the NBA API and find the correct information. A list was created for the information to be saved and a loop to gather all information in a row. The process is repeated a futher 9 more times to collect all the information for the specific seasons."
   ]
  },
  {
   "cell_type": "code",
   "execution_count": 2,
   "metadata": {},
   "outputs": [],
   "source": [
    "def fetchData1():\n",
    "    options = Options() # To make browser headless \n",
    "    options.headless = True # set that to true \n",
    "    driver = webdriver.Firefox(executable_path=\"geckodriver\", options=options) # link path to the geckodriver\n",
    "\n",
    "    years = ['2010-11', '2011-12', '2012-13', '2013-14', '2014-15', '2015-16', '2016-17', '2017-18', '2018-19', '2019-20'] # years to loop over\n",
    "    for year in years: # start iteration process\n",
    "        driver.get(f\"https://stats.nba.com/teams/shooting/?Season={year}&SeasonType=Regular%20Season\") # navigate to target url / add looped year to url\n",
    "        time.sleep(2)\n",
    "\n",
    "        bs = BeautifulSoup(driver.page_source, \"lxml\") # set encoding of page to lxml\n",
    "        table_body=bs.find('tbody')\n",
    "\n",
    "        data_found = [] # \n",
    "        data_rows = table_body.find_all('tr') # find the table rows tag\n",
    "        for row in data_rows: # for loop to begin running through \n",
    "            cols = row.find_all('td') # find all table data in table rows \n",
    "            cols = [x.text.strip() for x in cols] # strip all text from the rows \n",
    "\n",
    "            data_found.append(cols) # append that data to the empty list \n",
    "        \n",
    "        dfObj = pd.DataFrame(data_found) # convert list to dataframe \n",
    "        dfObj[0:30].to_csv(f\"{year}.csv\", encoding='utf-8', index=False) # convert pandas dataframe to csv / add csv name as iterated years\n",
    " \n",
    "\n",
    "fetchData1()"
   ]
  },
  {
   "cell_type": "markdown",
   "metadata": {},
   "source": [
    "## 3. Parse the collected data, and store it in an appropriate file format"
   ]
  },
  {
   "cell_type": "markdown",
   "metadata": {},
   "source": [
    "Parsing Raw Data:\n",
    "\n",
    "The raw csv files saved from the API need to be cleaned slightly and saved into a better format for further cleaning and manupulation. The first loop will call on each saved down csv, remove the last 3 columns that had null information, the header column will be updated with the correct headers for each column. Next a season column is added after the first which will show what season the information is from.\n",
    "\n",
    "The next set of code is to read all the updated csv files and combine them into one data frame with no header. Once that is completed the dataframe is printed to check its what I need it to be and then it's sent to a CSV file called combined and a message just to let the user know that the data has been combined into a CSV."
   ]
  },
  {
   "cell_type": "code",
   "execution_count": 3,
   "metadata": {},
   "outputs": [],
   "source": [
    "files = ['2010-11.csv', '2011-12.csv', '2012-13.csv', '2013-14.csv', '2014-15.csv', '2015-16.csv', '2016-17.csv', '2017-18.csv', '2018-19.csv', '2019-20.csv']\n",
    "\n",
    "for file in files:\n",
    "\tdf = read_csv(file)\n",
    "\tdf = df.iloc[:, :-3]\n",
    "\tdf.columns = ['Team', 'FGM < 5FT', 'FGA < 5FT', 'FG% < 5FT', 'FGM 5-9FT', 'FGA 5-9FT', 'FG% 5-9FT', 'FGM 10-14FT', 'FGA 10-14FT', 'FG% 10-14FT', 'FGM 15-19FT', 'FGA 15-19FT', 'FG% 15-19FT', 'FGM 20-24FT', 'FGA 20-24FT', 'FG% 20-24FT', 'FGM 25-29FT', 'FGA 25-29FT', 'FG% 25-29FT']\n",
    "\tdf.insert(1, 'Season', file.split('.')[0])\n",
    "\tdf.to_csv(file, index=False)"
   ]
  },
  {
   "cell_type": "code",
   "execution_count": 4,
   "metadata": {},
   "outputs": [
    {
     "data": {
      "text/html": [
       "<div>\n",
       "<style scoped>\n",
       "    .dataframe tbody tr th:only-of-type {\n",
       "        vertical-align: middle;\n",
       "    }\n",
       "\n",
       "    .dataframe tbody tr th {\n",
       "        vertical-align: top;\n",
       "    }\n",
       "\n",
       "    .dataframe thead th {\n",
       "        text-align: right;\n",
       "    }\n",
       "</style>\n",
       "<table border=\"1\" class=\"dataframe\">\n",
       "  <thead>\n",
       "    <tr style=\"text-align: right;\">\n",
       "      <th></th>\n",
       "      <th>Season</th>\n",
       "      <th>FGM &lt; 5FT</th>\n",
       "      <th>FGA &lt; 5FT</th>\n",
       "      <th>FG% &lt; 5FT</th>\n",
       "      <th>FGM 5-9FT</th>\n",
       "      <th>FGA 5-9FT</th>\n",
       "      <th>FG% 5-9FT</th>\n",
       "      <th>FGM 10-14FT</th>\n",
       "      <th>FGA 10-14FT</th>\n",
       "      <th>FG% 10-14FT</th>\n",
       "      <th>FGM 15-19FT</th>\n",
       "      <th>FGA 15-19FT</th>\n",
       "      <th>FG% 15-19FT</th>\n",
       "      <th>FGM 20-24FT</th>\n",
       "      <th>FGA 20-24FT</th>\n",
       "      <th>FG% 20-24FT</th>\n",
       "      <th>FGM 25-29FT</th>\n",
       "      <th>FGA 25-29FT</th>\n",
       "      <th>FG% 25-29FT</th>\n",
       "    </tr>\n",
       "  </thead>\n",
       "  <tbody>\n",
       "    <tr>\n",
       "      <td>0</td>\n",
       "      <td>2010-11</td>\n",
       "      <td>13.8</td>\n",
       "      <td>22.8</td>\n",
       "      <td>60.6</td>\n",
       "      <td>4.0</td>\n",
       "      <td>9.1</td>\n",
       "      <td>43.4</td>\n",
       "      <td>2.2</td>\n",
       "      <td>5.8</td>\n",
       "      <td>37.8</td>\n",
       "      <td>7.3</td>\n",
       "      <td>16.4</td>\n",
       "      <td>44.4</td>\n",
       "      <td>6.5</td>\n",
       "      <td>16.5</td>\n",
       "      <td>39.2</td>\n",
       "      <td>2.5</td>\n",
       "      <td>7.5</td>\n",
       "      <td>33.5</td>\n",
       "    </tr>\n",
       "    <tr>\n",
       "      <td>1</td>\n",
       "      <td>2010-11</td>\n",
       "      <td>17.4</td>\n",
       "      <td>27.8</td>\n",
       "      <td>62.5</td>\n",
       "      <td>2.6</td>\n",
       "      <td>6.5</td>\n",
       "      <td>39.7</td>\n",
       "      <td>3.0</td>\n",
       "      <td>6.7</td>\n",
       "      <td>44.7</td>\n",
       "      <td>6.9</td>\n",
       "      <td>16.2</td>\n",
       "      <td>42.9</td>\n",
       "      <td>5.5</td>\n",
       "      <td>13.6</td>\n",
       "      <td>40.5</td>\n",
       "      <td>1.4</td>\n",
       "      <td>4.8</td>\n",
       "      <td>29.8</td>\n",
       "    </tr>\n",
       "    <tr>\n",
       "      <td>2</td>\n",
       "      <td>2010-11</td>\n",
       "      <td>17.3</td>\n",
       "      <td>30.6</td>\n",
       "      <td>56.5</td>\n",
       "      <td>2.5</td>\n",
       "      <td>6.6</td>\n",
       "      <td>37.9</td>\n",
       "      <td>2.1</td>\n",
       "      <td>5.6</td>\n",
       "      <td>38.4</td>\n",
       "      <td>6.4</td>\n",
       "      <td>15.8</td>\n",
       "      <td>40.6</td>\n",
       "      <td>4.1</td>\n",
       "      <td>10.6</td>\n",
       "      <td>38.9</td>\n",
       "      <td>2.6</td>\n",
       "      <td>8.2</td>\n",
       "      <td>31.7</td>\n",
       "    </tr>\n",
       "    <tr>\n",
       "      <td>3</td>\n",
       "      <td>2010-11</td>\n",
       "      <td>17.9</td>\n",
       "      <td>30.2</td>\n",
       "      <td>59.1</td>\n",
       "      <td>2.4</td>\n",
       "      <td>6.3</td>\n",
       "      <td>38.1</td>\n",
       "      <td>2.2</td>\n",
       "      <td>5.8</td>\n",
       "      <td>38.9</td>\n",
       "      <td>6.3</td>\n",
       "      <td>15.5</td>\n",
       "      <td>40.8</td>\n",
       "      <td>5.7</td>\n",
       "      <td>15.0</td>\n",
       "      <td>37.8</td>\n",
       "      <td>2.6</td>\n",
       "      <td>7.1</td>\n",
       "      <td>36.9</td>\n",
       "    </tr>\n",
       "    <tr>\n",
       "      <td>4</td>\n",
       "      <td>2010-11</td>\n",
       "      <td>16.1</td>\n",
       "      <td>28.1</td>\n",
       "      <td>57.2</td>\n",
       "      <td>3.7</td>\n",
       "      <td>10.4</td>\n",
       "      <td>35.7</td>\n",
       "      <td>2.0</td>\n",
       "      <td>6.1</td>\n",
       "      <td>32.3</td>\n",
       "      <td>5.1</td>\n",
       "      <td>12.9</td>\n",
       "      <td>39.4</td>\n",
       "      <td>5.4</td>\n",
       "      <td>14.7</td>\n",
       "      <td>36.5</td>\n",
       "      <td>2.9</td>\n",
       "      <td>8.5</td>\n",
       "      <td>34.6</td>\n",
       "    </tr>\n",
       "    <tr>\n",
       "      <td>...</td>\n",
       "      <td>...</td>\n",
       "      <td>...</td>\n",
       "      <td>...</td>\n",
       "      <td>...</td>\n",
       "      <td>...</td>\n",
       "      <td>...</td>\n",
       "      <td>...</td>\n",
       "      <td>...</td>\n",
       "      <td>...</td>\n",
       "      <td>...</td>\n",
       "      <td>...</td>\n",
       "      <td>...</td>\n",
       "      <td>...</td>\n",
       "      <td>...</td>\n",
       "      <td>...</td>\n",
       "      <td>...</td>\n",
       "      <td>...</td>\n",
       "      <td>...</td>\n",
       "      <td>...</td>\n",
       "    </tr>\n",
       "    <tr>\n",
       "      <td>25</td>\n",
       "      <td>2019-20</td>\n",
       "      <td>17.5</td>\n",
       "      <td>28.5</td>\n",
       "      <td>61.6</td>\n",
       "      <td>4.1</td>\n",
       "      <td>10.0</td>\n",
       "      <td>41.1</td>\n",
       "      <td>2.7</td>\n",
       "      <td>6.7</td>\n",
       "      <td>39.7</td>\n",
       "      <td>2.7</td>\n",
       "      <td>5.8</td>\n",
       "      <td>46.4</td>\n",
       "      <td>5.5</td>\n",
       "      <td>15.2</td>\n",
       "      <td>36.4</td>\n",
       "      <td>7.7</td>\n",
       "      <td>21.1</td>\n",
       "      <td>36.4</td>\n",
       "    </tr>\n",
       "    <tr>\n",
       "      <td>26</td>\n",
       "      <td>2019-20</td>\n",
       "      <td>15.4</td>\n",
       "      <td>24.7</td>\n",
       "      <td>62.3</td>\n",
       "      <td>4.5</td>\n",
       "      <td>9.9</td>\n",
       "      <td>45.4</td>\n",
       "      <td>4.9</td>\n",
       "      <td>10.9</td>\n",
       "      <td>44.7</td>\n",
       "      <td>5.3</td>\n",
       "      <td>12.0</td>\n",
       "      <td>44.6</td>\n",
       "      <td>5.5</td>\n",
       "      <td>13.7</td>\n",
       "      <td>40.3</td>\n",
       "      <td>6.4</td>\n",
       "      <td>18.0</td>\n",
       "      <td>35.8</td>\n",
       "    </tr>\n",
       "    <tr>\n",
       "      <td>27</td>\n",
       "      <td>2019-20</td>\n",
       "      <td>20.6</td>\n",
       "      <td>34.8</td>\n",
       "      <td>59.3</td>\n",
       "      <td>2.6</td>\n",
       "      <td>6.7</td>\n",
       "      <td>38.4</td>\n",
       "      <td>1.5</td>\n",
       "      <td>4.2</td>\n",
       "      <td>36.5</td>\n",
       "      <td>1.4</td>\n",
       "      <td>4.0</td>\n",
       "      <td>35.7</td>\n",
       "      <td>5.6</td>\n",
       "      <td>14.5</td>\n",
       "      <td>38.6</td>\n",
       "      <td>8.6</td>\n",
       "      <td>23.5</td>\n",
       "      <td>36.5</td>\n",
       "    </tr>\n",
       "    <tr>\n",
       "      <td>28</td>\n",
       "      <td>2019-20</td>\n",
       "      <td>17.8</td>\n",
       "      <td>28.3</td>\n",
       "      <td>62.8</td>\n",
       "      <td>4.4</td>\n",
       "      <td>10.7</td>\n",
       "      <td>41.2</td>\n",
       "      <td>2.7</td>\n",
       "      <td>6.3</td>\n",
       "      <td>42.8</td>\n",
       "      <td>1.6</td>\n",
       "      <td>3.7</td>\n",
       "      <td>43.9</td>\n",
       "      <td>6.8</td>\n",
       "      <td>16.6</td>\n",
       "      <td>40.6</td>\n",
       "      <td>6.8</td>\n",
       "      <td>18.2</td>\n",
       "      <td>37.2</td>\n",
       "    </tr>\n",
       "    <tr>\n",
       "      <td>29</td>\n",
       "      <td>2019-20</td>\n",
       "      <td>19.1</td>\n",
       "      <td>30.2</td>\n",
       "      <td>63.1</td>\n",
       "      <td>2.8</td>\n",
       "      <td>8.0</td>\n",
       "      <td>34.6</td>\n",
       "      <td>3.2</td>\n",
       "      <td>7.9</td>\n",
       "      <td>40.3</td>\n",
       "      <td>4.0</td>\n",
       "      <td>9.9</td>\n",
       "      <td>40.1</td>\n",
       "      <td>4.1</td>\n",
       "      <td>11.0</td>\n",
       "      <td>37.2</td>\n",
       "      <td>8.4</td>\n",
       "      <td>22.9</td>\n",
       "      <td>36.8</td>\n",
       "    </tr>\n",
       "  </tbody>\n",
       "</table>\n",
       "<p>300 rows × 19 columns</p>\n",
       "</div>"
      ],
      "text/plain": [
       "     Season  FGM < 5FT  FGA < 5FT  FG% < 5FT  FGM 5-9FT  FGA 5-9FT  FG% 5-9FT  \\\n",
       "0   2010-11       13.8       22.8       60.6        4.0        9.1       43.4   \n",
       "1   2010-11       17.4       27.8       62.5        2.6        6.5       39.7   \n",
       "2   2010-11       17.3       30.6       56.5        2.5        6.6       37.9   \n",
       "3   2010-11       17.9       30.2       59.1        2.4        6.3       38.1   \n",
       "4   2010-11       16.1       28.1       57.2        3.7       10.4       35.7   \n",
       "..      ...        ...        ...        ...        ...        ...        ...   \n",
       "25  2019-20       17.5       28.5       61.6        4.1       10.0       41.1   \n",
       "26  2019-20       15.4       24.7       62.3        4.5        9.9       45.4   \n",
       "27  2019-20       20.6       34.8       59.3        2.6        6.7       38.4   \n",
       "28  2019-20       17.8       28.3       62.8        4.4       10.7       41.2   \n",
       "29  2019-20       19.1       30.2       63.1        2.8        8.0       34.6   \n",
       "\n",
       "    FGM 10-14FT  FGA 10-14FT  FG% 10-14FT  FGM 15-19FT  FGA 15-19FT  \\\n",
       "0           2.2          5.8         37.8          7.3         16.4   \n",
       "1           3.0          6.7         44.7          6.9         16.2   \n",
       "2           2.1          5.6         38.4          6.4         15.8   \n",
       "3           2.2          5.8         38.9          6.3         15.5   \n",
       "4           2.0          6.1         32.3          5.1         12.9   \n",
       "..          ...          ...          ...          ...          ...   \n",
       "25          2.7          6.7         39.7          2.7          5.8   \n",
       "26          4.9         10.9         44.7          5.3         12.0   \n",
       "27          1.5          4.2         36.5          1.4          4.0   \n",
       "28          2.7          6.3         42.8          1.6          3.7   \n",
       "29          3.2          7.9         40.3          4.0          9.9   \n",
       "\n",
       "    FG% 15-19FT  FGM 20-24FT  FGA 20-24FT  FG% 20-24FT  FGM 25-29FT  \\\n",
       "0          44.4          6.5         16.5         39.2          2.5   \n",
       "1          42.9          5.5         13.6         40.5          1.4   \n",
       "2          40.6          4.1         10.6         38.9          2.6   \n",
       "3          40.8          5.7         15.0         37.8          2.6   \n",
       "4          39.4          5.4         14.7         36.5          2.9   \n",
       "..          ...          ...          ...          ...          ...   \n",
       "25         46.4          5.5         15.2         36.4          7.7   \n",
       "26         44.6          5.5         13.7         40.3          6.4   \n",
       "27         35.7          5.6         14.5         38.6          8.6   \n",
       "28         43.9          6.8         16.6         40.6          6.8   \n",
       "29         40.1          4.1         11.0         37.2          8.4   \n",
       "\n",
       "    FGA 25-29FT  FG% 25-29FT  \n",
       "0           7.5         33.5  \n",
       "1           4.8         29.8  \n",
       "2           8.2         31.7  \n",
       "3           7.1         36.9  \n",
       "4           8.5         34.6  \n",
       "..          ...          ...  \n",
       "25         21.1         36.4  \n",
       "26         18.0         35.8  \n",
       "27         23.5         36.5  \n",
       "28         18.2         37.2  \n",
       "29         22.9         36.8  \n",
       "\n",
       "[300 rows x 19 columns]"
      ]
     },
     "execution_count": 4,
     "metadata": {},
     "output_type": "execute_result"
    }
   ],
   "source": [
    "allfiles = ['2010-11.csv', '2011-12.csv', '2012-13.csv', '2013-14.csv', '2014-15.csv', '2015-16.csv', '2016-17.csv', '2017-18.csv', '2018-19.csv', '2019-20.csv']\n",
    "\n",
    "li = []\n",
    "\n",
    "for filename in allfiles:\n",
    "    dfcom = pd.read_csv(filename, header=0)\n",
    "    li.append(dfcom)\n",
    "\n",
    "frame = pd.concat(li, axis=0)\n",
    "frame = frame.drop(frame.columns[0], axis=1)\n",
    "frame"
   ]
  },
  {
   "cell_type": "code",
   "execution_count": 5,
   "metadata": {},
   "outputs": [
    {
     "name": "stdout",
     "output_type": "stream",
     "text": [
      "Raw data collected and combined into CSV\n"
     ]
    }
   ],
   "source": [
    "frame.to_csv('combined.csv', index=None)\n",
    "print(\"Raw data collected and combined into CSV\")"
   ]
  },
  {
   "cell_type": "markdown",
   "metadata": {},
   "source": [
    "## 4. Load and represent the data using an appropriate data structure. Apply any pre-processing steps to clean/filter/combine the data"
   ]
  },
  {
   "cell_type": "markdown",
   "metadata": {},
   "source": [
    "The combined dataframe still consists of a lot of information and because of this I'm going to parse the data into specific files, grouping by the season.\n",
    "\n",
    "Once the files have been grouped, I have decided to split them into two point shots, three point shots and the overall shooting percentage. This will make it easier to visualise the information in graphs to help identify some key areas.\n",
    "\n",
    "All columns in each data frame are checked to insure that there is no null columns and once that's complete we are safe to move onto the next step."
   ]
  },
  {
   "cell_type": "code",
   "execution_count": 6,
   "metadata": {},
   "outputs": [
    {
     "data": {
      "text/html": [
       "<div>\n",
       "<style scoped>\n",
       "    .dataframe tbody tr th:only-of-type {\n",
       "        vertical-align: middle;\n",
       "    }\n",
       "\n",
       "    .dataframe tbody tr th {\n",
       "        vertical-align: top;\n",
       "    }\n",
       "\n",
       "    .dataframe thead th {\n",
       "        text-align: right;\n",
       "    }\n",
       "</style>\n",
       "<table border=\"1\" class=\"dataframe\">\n",
       "  <thead>\n",
       "    <tr style=\"text-align: right;\">\n",
       "      <th></th>\n",
       "      <th>FGM &lt; 5FT</th>\n",
       "      <th>FGA &lt; 5FT</th>\n",
       "      <th>FGM 5-9FT</th>\n",
       "      <th>FGA 5-9FT</th>\n",
       "      <th>FGM 10-14FT</th>\n",
       "      <th>FGA 10-14FT</th>\n",
       "      <th>FGM 15-19FT</th>\n",
       "      <th>FGA 15-19FT</th>\n",
       "      <th>FGM 20-24FT</th>\n",
       "      <th>FGA 20-24FT</th>\n",
       "    </tr>\n",
       "    <tr>\n",
       "      <th>Season</th>\n",
       "      <th></th>\n",
       "      <th></th>\n",
       "      <th></th>\n",
       "      <th></th>\n",
       "      <th></th>\n",
       "      <th></th>\n",
       "      <th></th>\n",
       "      <th></th>\n",
       "      <th></th>\n",
       "      <th></th>\n",
       "    </tr>\n",
       "  </thead>\n",
       "  <tbody>\n",
       "    <tr>\n",
       "      <td>2010-11</td>\n",
       "      <td>16.710000</td>\n",
       "      <td>27.866667</td>\n",
       "      <td>3.513333</td>\n",
       "      <td>9.006667</td>\n",
       "      <td>2.653333</td>\n",
       "      <td>6.770000</td>\n",
       "      <td>6.000000</td>\n",
       "      <td>14.570000</td>\n",
       "      <td>5.733333</td>\n",
       "      <td>14.876667</td>\n",
       "    </tr>\n",
       "    <tr>\n",
       "      <td>2011-12</td>\n",
       "      <td>16.720000</td>\n",
       "      <td>28.553333</td>\n",
       "      <td>3.283333</td>\n",
       "      <td>8.543333</td>\n",
       "      <td>2.630000</td>\n",
       "      <td>6.853333</td>\n",
       "      <td>5.703333</td>\n",
       "      <td>14.320000</td>\n",
       "      <td>5.473333</td>\n",
       "      <td>14.793333</td>\n",
       "    </tr>\n",
       "    <tr>\n",
       "      <td>2012-13</td>\n",
       "      <td>17.053333</td>\n",
       "      <td>29.110000</td>\n",
       "      <td>3.246667</td>\n",
       "      <td>8.353333</td>\n",
       "      <td>2.590000</td>\n",
       "      <td>6.646667</td>\n",
       "      <td>5.416667</td>\n",
       "      <td>13.456667</td>\n",
       "      <td>5.583333</td>\n",
       "      <td>14.743333</td>\n",
       "    </tr>\n",
       "  </tbody>\n",
       "</table>\n",
       "</div>"
      ],
      "text/plain": [
       "         FGM < 5FT  FGA < 5FT  FGM 5-9FT  FGA 5-9FT  FGM 10-14FT  FGA 10-14FT  \\\n",
       "Season                                                                          \n",
       "2010-11  16.710000  27.866667   3.513333   9.006667     2.653333     6.770000   \n",
       "2011-12  16.720000  28.553333   3.283333   8.543333     2.630000     6.853333   \n",
       "2012-13  17.053333  29.110000   3.246667   8.353333     2.590000     6.646667   \n",
       "\n",
       "         FGM 15-19FT  FGA 15-19FT  FGM 20-24FT  FGA 20-24FT  \n",
       "Season                                                       \n",
       "2010-11     6.000000    14.570000     5.733333    14.876667  \n",
       "2011-12     5.703333    14.320000     5.473333    14.793333  \n",
       "2012-13     5.416667    13.456667     5.583333    14.743333  "
      ]
     },
     "execution_count": 6,
     "metadata": {},
     "output_type": "execute_result"
    }
   ],
   "source": [
    "LeagueFile = pd.read_csv(\"combined.csv\")\n",
    "\n",
    "twoPointShots = LeagueFile.groupby(['Season'])['FGM < 5FT', 'FGA < 5FT', 'FGM 5-9FT', 'FGA 5-9FT', 'FGM 10-14FT', 'FGA 10-14FT', 'FGM 15-19FT', 'FGA 15-19FT', 'FGM 20-24FT', 'FGA 20-24FT'].mean()\n",
    "twoPointShots.head(3)"
   ]
  },
  {
   "cell_type": "code",
   "execution_count": 7,
   "metadata": {},
   "outputs": [
    {
     "data": {
      "text/html": [
       "<div>\n",
       "<style scoped>\n",
       "    .dataframe tbody tr th:only-of-type {\n",
       "        vertical-align: middle;\n",
       "    }\n",
       "\n",
       "    .dataframe tbody tr th {\n",
       "        vertical-align: top;\n",
       "    }\n",
       "\n",
       "    .dataframe thead th {\n",
       "        text-align: right;\n",
       "    }\n",
       "</style>\n",
       "<table border=\"1\" class=\"dataframe\">\n",
       "  <thead>\n",
       "    <tr style=\"text-align: right;\">\n",
       "      <th></th>\n",
       "      <th>FGM 25-29FT</th>\n",
       "      <th>FGA 25-29FT</th>\n",
       "    </tr>\n",
       "    <tr>\n",
       "      <th>Season</th>\n",
       "      <th></th>\n",
       "      <th></th>\n",
       "    </tr>\n",
       "  </thead>\n",
       "  <tbody>\n",
       "    <tr>\n",
       "      <td>2010-11</td>\n",
       "      <td>2.613333</td>\n",
       "      <td>7.690000</td>\n",
       "    </tr>\n",
       "    <tr>\n",
       "      <td>2011-12</td>\n",
       "      <td>2.650000</td>\n",
       "      <td>7.966667</td>\n",
       "    </tr>\n",
       "  </tbody>\n",
       "</table>\n",
       "</div>"
      ],
      "text/plain": [
       "         FGM 25-29FT  FGA 25-29FT\n",
       "Season                           \n",
       "2010-11     2.613333     7.690000\n",
       "2011-12     2.650000     7.966667"
      ]
     },
     "execution_count": 7,
     "metadata": {},
     "output_type": "execute_result"
    }
   ],
   "source": [
    "threePointShots = LeagueFile.groupby(['Season'])['FGM 25-29FT', 'FGA 25-29FT'].mean()\n",
    "threePointShots.head(2)"
   ]
  },
  {
   "cell_type": "code",
   "execution_count": 8,
   "metadata": {},
   "outputs": [
    {
     "data": {
      "text/html": [
       "<div>\n",
       "<style scoped>\n",
       "    .dataframe tbody tr th:only-of-type {\n",
       "        vertical-align: middle;\n",
       "    }\n",
       "\n",
       "    .dataframe tbody tr th {\n",
       "        vertical-align: top;\n",
       "    }\n",
       "\n",
       "    .dataframe thead th {\n",
       "        text-align: right;\n",
       "    }\n",
       "</style>\n",
       "<table border=\"1\" class=\"dataframe\">\n",
       "  <thead>\n",
       "    <tr style=\"text-align: right;\">\n",
       "      <th></th>\n",
       "      <th>FG% &lt; 5FT</th>\n",
       "      <th>FG% 5-9FT</th>\n",
       "      <th>FG% 10-14FT</th>\n",
       "      <th>FG% 15-19FT</th>\n",
       "      <th>FG% 20-24FT</th>\n",
       "      <th>FG% 25-29FT</th>\n",
       "    </tr>\n",
       "    <tr>\n",
       "      <th>Season</th>\n",
       "      <th></th>\n",
       "      <th></th>\n",
       "      <th></th>\n",
       "      <th></th>\n",
       "      <th></th>\n",
       "      <th></th>\n",
       "    </tr>\n",
       "  </thead>\n",
       "  <tbody>\n",
       "    <tr>\n",
       "      <td>2010-11</td>\n",
       "      <td>60.033333</td>\n",
       "      <td>38.843333</td>\n",
       "      <td>39.013333</td>\n",
       "      <td>41.150000</td>\n",
       "      <td>38.416667</td>\n",
       "      <td>33.833333</td>\n",
       "    </tr>\n",
       "    <tr>\n",
       "      <td>2011-12</td>\n",
       "      <td>58.550000</td>\n",
       "      <td>38.260000</td>\n",
       "      <td>38.020000</td>\n",
       "      <td>39.616667</td>\n",
       "      <td>36.953333</td>\n",
       "      <td>33.026667</td>\n",
       "    </tr>\n",
       "    <tr>\n",
       "      <td>2012-13</td>\n",
       "      <td>58.623333</td>\n",
       "      <td>38.613333</td>\n",
       "      <td>38.730000</td>\n",
       "      <td>40.190000</td>\n",
       "      <td>37.723333</td>\n",
       "      <td>34.550000</td>\n",
       "    </tr>\n",
       "  </tbody>\n",
       "</table>\n",
       "</div>"
      ],
      "text/plain": [
       "         FG% < 5FT  FG% 5-9FT  FG% 10-14FT  FG% 15-19FT  FG% 20-24FT  \\\n",
       "Season                                                                 \n",
       "2010-11  60.033333  38.843333    39.013333    41.150000    38.416667   \n",
       "2011-12  58.550000  38.260000    38.020000    39.616667    36.953333   \n",
       "2012-13  58.623333  38.613333    38.730000    40.190000    37.723333   \n",
       "\n",
       "         FG% 25-29FT  \n",
       "Season                \n",
       "2010-11    33.833333  \n",
       "2011-12    33.026667  \n",
       "2012-13    34.550000  "
      ]
     },
     "execution_count": 8,
     "metadata": {},
     "output_type": "execute_result"
    }
   ],
   "source": [
    "shotPercentage = LeagueFile.groupby(['Season'])['FG% < 5FT', 'FG% 5-9FT', 'FG% 10-14FT', 'FG% 15-19FT', 'FG% 20-24FT', 'FG% 25-29FT'].mean()\n",
    "shotPercentage.head(3)"
   ]
  },
  {
   "cell_type": "code",
   "execution_count": 46,
   "metadata": {},
   "outputs": [
    {
     "data": {
      "text/html": [
       "<div>\n",
       "<style scoped>\n",
       "    .dataframe tbody tr th:only-of-type {\n",
       "        vertical-align: middle;\n",
       "    }\n",
       "\n",
       "    .dataframe tbody tr th {\n",
       "        vertical-align: top;\n",
       "    }\n",
       "\n",
       "    .dataframe thead th {\n",
       "        text-align: right;\n",
       "    }\n",
       "</style>\n",
       "<table border=\"1\" class=\"dataframe\">\n",
       "  <thead>\n",
       "    <tr style=\"text-align: right;\">\n",
       "      <th></th>\n",
       "      <th>Total 2 point FG</th>\n",
       "      <th>FGM 25-29FT</th>\n",
       "    </tr>\n",
       "    <tr>\n",
       "      <th>Season</th>\n",
       "      <th></th>\n",
       "      <th></th>\n",
       "    </tr>\n",
       "  </thead>\n",
       "  <tbody>\n",
       "    <tr>\n",
       "      <td>2010-11</td>\n",
       "      <td>34.610000</td>\n",
       "      <td>2.613333</td>\n",
       "    </tr>\n",
       "    <tr>\n",
       "      <td>2011-12</td>\n",
       "      <td>33.810000</td>\n",
       "      <td>2.650000</td>\n",
       "    </tr>\n",
       "    <tr>\n",
       "      <td>2012-13</td>\n",
       "      <td>33.890000</td>\n",
       "      <td>3.226667</td>\n",
       "    </tr>\n",
       "    <tr>\n",
       "      <td>2013-14</td>\n",
       "      <td>34.143333</td>\n",
       "      <td>3.533333</td>\n",
       "    </tr>\n",
       "    <tr>\n",
       "      <td>2014-15</td>\n",
       "      <td>33.886667</td>\n",
       "      <td>3.600000</td>\n",
       "    </tr>\n",
       "    <tr>\n",
       "      <td>2015-16</td>\n",
       "      <td>34.610000</td>\n",
       "      <td>3.583333</td>\n",
       "    </tr>\n",
       "    <tr>\n",
       "      <td>2016-17</td>\n",
       "      <td>34.423333</td>\n",
       "      <td>4.536667</td>\n",
       "    </tr>\n",
       "    <tr>\n",
       "      <td>2017-18</td>\n",
       "      <td>33.270000</td>\n",
       "      <td>6.273333</td>\n",
       "    </tr>\n",
       "    <tr>\n",
       "      <td>2018-19</td>\n",
       "      <td>34.120000</td>\n",
       "      <td>6.843333</td>\n",
       "    </tr>\n",
       "    <tr>\n",
       "      <td>2019-20</td>\n",
       "      <td>33.146667</td>\n",
       "      <td>7.526667</td>\n",
       "    </tr>\n",
       "  </tbody>\n",
       "</table>\n",
       "</div>"
      ],
      "text/plain": [
       "         Total 2 point FG  FGM 25-29FT\n",
       "Season                                \n",
       "2010-11         34.610000     2.613333\n",
       "2011-12         33.810000     2.650000\n",
       "2012-13         33.890000     3.226667\n",
       "2013-14         34.143333     3.533333\n",
       "2014-15         33.886667     3.600000\n",
       "2015-16         34.610000     3.583333\n",
       "2016-17         34.423333     4.536667\n",
       "2017-18         33.270000     6.273333\n",
       "2018-19         34.120000     6.843333\n",
       "2019-20         33.146667     7.526667"
      ]
     },
     "execution_count": 46,
     "metadata": {},
     "output_type": "execute_result"
    }
   ],
   "source": [
    "TotalFG = LeagueFile.groupby(['Season'])['FGM < 5FT', 'FGM 5-9FT', 'FGM 10-14FT', 'FGM 15-19FT', 'FGM 20-24FT'].mean()\n",
    "TotalFG['Total 2 point FG'] = TotalFG.sum(axis=1)\n",
    "TotalFG.drop(TotalFG.columns[[0, 1, 2, 3, 4,]], axis = 1, inplace = True) \n",
    "DataJoined = TotalFG.join(threePointShots)\n",
    "DataJoined.drop(DataJoined.columns[[2]], axis = 1, inplace = True) \n",
    "DataJoined"
   ]
  },
  {
   "cell_type": "code",
   "execution_count": 9,
   "metadata": {},
   "outputs": [
    {
     "data": {
      "text/plain": [
       "FGM < 5FT      0\n",
       "FGA < 5FT      0\n",
       "FGM 5-9FT      0\n",
       "FGA 5-9FT      0\n",
       "FGM 10-14FT    0\n",
       "FGA 10-14FT    0\n",
       "FGM 15-19FT    0\n",
       "FGA 15-19FT    0\n",
       "FGM 20-24FT    0\n",
       "FGA 20-24FT    0\n",
       "dtype: int64"
      ]
     },
     "execution_count": 9,
     "metadata": {},
     "output_type": "execute_result"
    }
   ],
   "source": [
    "twoPointShots.isnull().sum()"
   ]
  },
  {
   "cell_type": "code",
   "execution_count": 10,
   "metadata": {},
   "outputs": [
    {
     "data": {
      "text/plain": [
       "FG% < 5FT      0\n",
       "FG% 5-9FT      0\n",
       "FG% 10-14FT    0\n",
       "FG% 15-19FT    0\n",
       "FG% 20-24FT    0\n",
       "FG% 25-29FT    0\n",
       "dtype: int64"
      ]
     },
     "execution_count": 10,
     "metadata": {},
     "output_type": "execute_result"
    }
   ],
   "source": [
    "shotPercentage.isnull().sum()"
   ]
  },
  {
   "cell_type": "code",
   "execution_count": 11,
   "metadata": {},
   "outputs": [
    {
     "data": {
      "text/plain": [
       "FGM 25-29FT    0\n",
       "FGA 25-29FT    0\n",
       "dtype: int64"
      ]
     },
     "execution_count": 11,
     "metadata": {},
     "output_type": "execute_result"
    }
   ],
   "source": [
    "threePointShots.isnull().sum()"
   ]
  },
  {
   "cell_type": "code",
   "execution_count": 47,
   "metadata": {},
   "outputs": [
    {
     "data": {
      "text/plain": [
       "Total 2 point FG    0\n",
       "FGM 25-29FT         0\n",
       "dtype: int64"
      ]
     },
     "execution_count": 47,
     "metadata": {},
     "output_type": "execute_result"
    }
   ],
   "source": [
    "DataJoined.isnull().sum()"
   ]
  },
  {
   "cell_type": "markdown",
   "metadata": {},
   "source": [
    "### 5. Analyse and summarise the cleaned dataset"
   ]
  },
  {
   "cell_type": "markdown",
   "metadata": {},
   "source": [
    "Now I will analyse the cleaned data frames to try and identify some trends in the NBA shooting and have an idea if the NBA has changed in the past 10 years using different visula graphs to read the data much more coherently."
   ]
  },
  {
   "cell_type": "code",
   "execution_count": 12,
   "metadata": {
    "scrolled": true
   },
   "outputs": [
    {
     "data": {
      "text/plain": [
       "<Figure size 720x288 with 0 Axes>"
      ]
     },
     "metadata": {},
     "output_type": "display_data"
    },
    {
     "data": {
      "image/png": "[encoded data removed]",
      "text/plain": [
       "<Figure size 432x288 with 1 Axes>"
      ]
     },
     "metadata": {
      "needs_background": "light"
     },
     "output_type": "display_data"
    }
   ],
   "source": [
    "plt.figure(figsize=(10,4))\n",
    "threePointShots.plot()\n",
    "plt.title(\"The 3-Point Shot Attempts and Makes\")\n",
    "plt.xlabel(\"Season\")\n",
    "plt.ylabel(\"Number of Attempts/Shots\")\n",
    "plt.xticks(rotation=90)\n",
    "plt.legend(('3 Pointers Made','3 Pointers Attempted'), loc=4)\n",
    "plt.show()"
   ]
  },
  {
   "cell_type": "code",
   "execution_count": 13,
   "metadata": {},
   "outputs": [
    {
     "data": {
      "text/plain": [
       "Text(0, 0.5, 'Shot Percentage')"
      ]
     },
     "execution_count": 13,
     "metadata": {},
     "output_type": "execute_result"
    },
    {
     "data": {
      "image/png": "[encoded data removed]",
      "text/plain": [
       "<Figure size 720x720 with 1 Axes>"
      ]
     },
     "metadata": {
      "needs_background": "light"
     },
     "output_type": "display_data"
    }
   ],
   "source": [
    "shotPercentage.boxplot(column=['FG% 25-29FT'],by='Season',figsize=(10,10),rot=90)\n",
    "plt.ylabel(\"Shot Percentage\")"
   ]
  },
  {
   "cell_type": "code",
   "execution_count": 14,
   "metadata": {},
   "outputs": [
    {
     "data": {
      "text/plain": [
       "<matplotlib.axes._subplots.AxesSubplot at 0x20a38514e48>"
      ]
     },
     "execution_count": 14,
     "metadata": {},
     "output_type": "execute_result"
    },
    {
     "data": {
      "image/png": "[encoded data removed]",
      "text/plain": [
       "<Figure size 720x432 with 1 Axes>"
      ]
     },
     "metadata": {
      "needs_background": "light"
     },
     "output_type": "display_data"
    }
   ],
   "source": [
    "plt.figure(figsize=(10,6))\n",
    "threepointpercentage = shotPercentage.groupby(\"Season\")['FG% 25-29FT'].mean()\n",
    "plt.title(\"Shot percentage from 3-point line\")\n",
    "plt.ylabel(\"Shoot conversion (%)\")\n",
    "plt.xlabel(\"Season\")\n",
    "threepointpercentage.plot.bar()"
   ]
  },
  {
   "cell_type": "code",
   "execution_count": 15,
   "metadata": {},
   "outputs": [
    {
     "data": {
      "text/plain": [
       "<Figure size 720x7200 with 0 Axes>"
      ]
     },
     "metadata": {},
     "output_type": "display_data"
    },
    {
     "data": {
      "image/png": "[encoded data removed]",
      "text/plain": [
       "<Figure size 432x288 with 1 Axes>"
      ]
     },
     "metadata": {
      "needs_background": "light"
     },
     "output_type": "display_data"
    }
   ],
   "source": [
    "plt.figure(figsize=(10,100))\n",
    "twoPointShotsClose = twoPointShots.groupby(\"Season\")['FGA < 5FT','FGM < 5FT', 'FGA 5-9FT', 'FGM 5-9FT'].mean()\n",
    "twoPointShotsClose.plot()\n",
    "plt.title(\"Two Point Close to the basket \")\n",
    "plt.xlabel(\"Season\")\n",
    "plt.ylabel(\"Number of Attempts/Shots\")\n",
    "plt.xticks(rotation=90)\n",
    "plt.legend(('<5FT FG Attempts','<5FT FG Makes', '5-9FT FG Attempts', '5-9FT FG Makes'), loc='upper center', bbox_to_anchor=(1.45, 0.8), shadow=True, ncol=1)\n",
    "plt.show()"
   ]
  },
  {
   "cell_type": "code",
   "execution_count": 16,
   "metadata": {},
   "outputs": [
    {
     "data": {
      "text/plain": [
       "<Figure size 7200x7200 with 0 Axes>"
      ]
     },
     "metadata": {},
     "output_type": "display_data"
    },
    {
     "data": {
      "image/png": "[encoded data removed]",
      "text/plain": [
       "<Figure size 432x288 with 1 Axes>"
      ]
     },
     "metadata": {
      "needs_background": "light"
     },
     "output_type": "display_data"
    }
   ],
   "source": [
    "plt.figure(figsize=(100,100))\n",
    "twoPointShotsMid = twoPointShots.groupby(\"Season\")['FGA 10-14FT','FGM 10-14FT', 'FGA 15-19FT', 'FGM 15-19FT', 'FGA 20-24FT', 'FGM 20-24FT'].mean()\n",
    "twoPointShotsMid.plot()\n",
    "plt.title(\"Two Point Shots from Mid Range\")\n",
    "plt.xlabel(\"Season\")\n",
    "plt.ylabel(\"Number of Attempts/Shots\")\n",
    "plt.xticks(rotation=90)\n",
    "plt.legend(('10-14FT FG Attempts', '10-145FT FG Makes', '15-19FT FG Attempts', '15-19FT FG Makes', '20-24FT FG Attempts', '20-24FT FG Makes'), loc='upper center', bbox_to_anchor=(1.45, 0.8), shadow=True, ncol=1)\n",
    "plt.show()"
   ]
  },
  {
   "cell_type": "code",
   "execution_count": 17,
   "metadata": {},
   "outputs": [
    {
     "data": {
      "text/plain": [
       "Text(0.5, 0, 'Season')"
      ]
     },
     "execution_count": 17,
     "metadata": {},
     "output_type": "execute_result"
    },
    {
     "data": {
      "text/plain": [
       "<Figure size 7200x7200 with 0 Axes>"
      ]
     },
     "metadata": {},
     "output_type": "display_data"
    },
    {
     "data": {
      "image/png": "[encoded data removed]",
      "text/plain": [
       "<Figure size 432x288 with 1 Axes>"
      ]
     },
     "metadata": {
      "needs_background": "light"
     },
     "output_type": "display_data"
    }
   ],
   "source": [
    "plt.figure(figsize=(100,100))\n",
    "twopointpercentage = shotPercentage.groupby(\"Season\")['FG% < 5FT','FG% 5-9FT','FG% 10-14FT', 'FG% 15-19FT', 'FG% 20-24FT', 'FG% 25-29FT'].mean()\n",
    "twopointpercentage.plot.bar()\n",
    "plt.title(\"Shot percentage for Field Goals\")\n",
    "plt.ylabel(\"Shoot conversion (%)\")\n",
    "plt.legend(loc='upper center', bbox_to_anchor=(1.45, 0.8), shadow=True, ncol=1)\n",
    "plt.xlabel(\"Season\")"
   ]
  },
  {
   "cell_type": "code",
   "execution_count": 54,
   "metadata": {},
   "outputs": [
    {
     "data": {
      "text/plain": [
       "<matplotlib.axes._subplots.AxesSubplot at 0x20a380a61c8>"
      ]
     },
     "execution_count": 54,
     "metadata": {},
     "output_type": "execute_result"
    },
    {
     "data": {
      "image/png": "[encoded data removed]",
      "text/plain": [
       "<Figure size 432x288 with 1 Axes>"
      ]
     },
     "metadata": {
      "needs_background": "light"
     },
     "output_type": "display_data"
    }
   ],
   "source": [
    "DataJoined.plot.scatter(x=\"Total 2 point FG\", y=\"FGM 25-29FT\", s=50 )"
   ]
  },
  {
   "cell_type": "code",
   "execution_count": 55,
   "metadata": {},
   "outputs": [
    {
     "data": {
      "image/png": "[encoded data removed]",
      "text/plain": [
       "<Figure size 432x432 with 2 Axes>"
      ]
     },
     "metadata": {
      "needs_background": "light"
     },
     "output_type": "display_data"
    }
   ],
   "source": [
    "DataJoined.plot(subplots=True, figsize=(6, 6));"
   ]
  },
  {
   "cell_type": "markdown",
   "metadata": {},
   "source": [
    "### Conclusion"
   ]
  },
  {
   "cell_type": "markdown",
   "metadata": {},
   "source": [
    "Observations from the graph we can see that 3 point attempts (25-29 foot) have nearly doubled since 2015 and even before then there was a slight increase each year. Not only has the attempts doubled but the success rate of three point shots has doubled. The bar graph that illustrates the success of the three point makes (3 point percentage) shows that there has not been a decline in the shooting percentage despite the increase in shot attempts.\n",
    "\n",
    "According to the graphs since the 2016 season there has been a decline in mid-range shots, in particular shots from 15-19 feet and 20-24 feet. This may be due to the increase in three point shots so teams are working towards that which takes away shot oppurtunites from other areas of the floor.\n",
    "\n",
    "The shot percentage (FG%) has remained similar throughout the decase, but in the past five seasons there has been an increase in shot percentage for close to the basket <5 and 5-9 feet. This will be due to the correlation of increased three point shots which causes the floor to be more spaced as players have to be guarded 25 feet from the basket therefore more room closer to the basket.\n",
    "\n",
    "The last graph shows that there is a true increase in the total 3 point shots being made in the NBA and it does look to be a trend in the past 5 Seasons. The 2 point FG look to stay around the same numbers never changing by more than two up or down."
   ]
  }
 ],
 "metadata": {
  "kernelspec": {
   "display_name": "Python 3",
   "language": "python",
   "name": "python3"
  },
  "language_info": {
   "codemirror_mode": {
    "name": "ipython",
    "version": 3
   },
   "file_extension": ".py",
   "mimetype": "text/x-python",
   "name": "python",
   "nbconvert_exporter": "python",
   "pygments_lexer": "ipython3",
   "version": "3.7.4"
  }
 },
 "nbformat": 4,
 "nbformat_minor": 2
}
